{
 "cells": [
  {
   "cell_type": "markdown",
   "id": "c1c1b136",
   "metadata": {},
   "source": [
    "# Restaurant Sales report"
   ]
  },
  {
   "cell_type": "markdown",
   "id": "d527dc73",
   "metadata": {},
   "source": [
    "### Business scenario \n",
    "\n",
    "Restaurant's aims to analyze sales trends and identify the most preferred food items by customers. This analysis will guide them in strategically stocking up on these items during specific times, enhancing their sales potential in the upcoming period."
   ]
  },
  {
   "cell_type": "markdown",
   "id": "0c593828",
   "metadata": {},
   "source": [
    "### Business Objectives\n",
    "\n",
    "1) Analyse sales trends over time.\n",
    "2) Understand customer preferences for different items.\n",
    "3) Evaluate the impact of payment methods on revenue.\n",
    "4) Investigat the performance of staff members based on gender.\n",
    "5) Explore the popularity of items at different times of the day."
   ]
  },
  {
   "cell_type": "markdown",
   "id": "34074776",
   "metadata": {},
   "source": [
    "##### Data Dict.\n",
    "\n",
    "1) order_id: a unique identifier for each order.\n",
    "2) date: date of the transaction.\n",
    "3) item_name: name of the food.\n",
    "4) item_type: category of item (Fastfood or Beverages).\n",
    "5) item_price: price of the item for 1 quantity.\n",
    "6) Quantity: how much quantity the customer orders.\n",
    "7) transaction_amount: the total amount paid by customers.\n",
    "8) transaction_type: payment method (cash, online, others).\n",
    "9) received_by: gender of the person handling the transaction.\n",
    "10) time_of_sale: different times of the day (Morning, Evening, Afternoon, Night, Midnight)."
   ]
  },
  {
   "cell_type": "markdown",
   "id": "837c2217",
   "metadata": {},
   "source": [
    "### "
   ]
  },
  {
   "cell_type": "code",
   "execution_count": 1,
   "id": "2b41bda5",
   "metadata": {},
   "outputs": [],
   "source": [
    "import pandas as pd\n",
    "import numpy as np\n",
    "import matplotlib.pyplot as plt\n",
    "from tabulate import tabulate"
   ]
  },
  {
   "cell_type": "code",
   "execution_count": 2,
   "id": "0fdd616c",
   "metadata": {},
   "outputs": [],
   "source": [
    "data = pd.read_csv(\"Balaji Fast Food Sales.csv\")"
   ]
  },
  {
   "cell_type": "markdown",
   "id": "efcbe215",
   "metadata": {},
   "source": [
    "##### "
   ]
  },
  {
   "cell_type": "markdown",
   "id": "04179535",
   "metadata": {},
   "source": [
    "#### Data Understanding"
   ]
  },
  {
   "cell_type": "code",
   "execution_count": 3,
   "id": "b15a3980",
   "metadata": {},
   "outputs": [
    {
     "data": {
      "text/plain": [
       "(1000, 10)"
      ]
     },
     "execution_count": 3,
     "metadata": {},
     "output_type": "execute_result"
    }
   ],
   "source": [
    "data.shape"
   ]
  },
  {
   "cell_type": "code",
   "execution_count": 4,
   "id": "c8c8bdf7",
   "metadata": {},
   "outputs": [],
   "source": [
    "data = data.drop_duplicates()"
   ]
  },
  {
   "cell_type": "code",
   "execution_count": 5,
   "id": "37a1780b",
   "metadata": {},
   "outputs": [
    {
     "data": {
      "text/plain": [
       "(1000, 10)"
      ]
     },
     "execution_count": 5,
     "metadata": {},
     "output_type": "execute_result"
    }
   ],
   "source": [
    "data.shape"
   ]
  },
  {
   "cell_type": "code",
   "execution_count": 6,
   "id": "31ff7bab",
   "metadata": {},
   "outputs": [
    {
     "data": {
      "text/html": [
       "<div>\n",
       "<style scoped>\n",
       "    .dataframe tbody tr th:only-of-type {\n",
       "        vertical-align: middle;\n",
       "    }\n",
       "\n",
       "    .dataframe tbody tr th {\n",
       "        vertical-align: top;\n",
       "    }\n",
       "\n",
       "    .dataframe thead th {\n",
       "        text-align: right;\n",
       "    }\n",
       "</style>\n",
       "<table border=\"1\" class=\"dataframe\">\n",
       "  <thead>\n",
       "    <tr style=\"text-align: right;\">\n",
       "      <th></th>\n",
       "      <th>order_id</th>\n",
       "      <th>date</th>\n",
       "      <th>item_name</th>\n",
       "      <th>item_type</th>\n",
       "      <th>item_price</th>\n",
       "      <th>quantity</th>\n",
       "      <th>transaction_amount</th>\n",
       "      <th>transaction_type</th>\n",
       "      <th>received_by</th>\n",
       "      <th>time_of_sale</th>\n",
       "    </tr>\n",
       "  </thead>\n",
       "  <tbody>\n",
       "    <tr>\n",
       "      <th>0</th>\n",
       "      <td>1</td>\n",
       "      <td>07-03-2022</td>\n",
       "      <td>Aalopuri</td>\n",
       "      <td>Fastfood</td>\n",
       "      <td>20</td>\n",
       "      <td>13</td>\n",
       "      <td>260</td>\n",
       "      <td>NaN</td>\n",
       "      <td>Mr.</td>\n",
       "      <td>Night</td>\n",
       "    </tr>\n",
       "    <tr>\n",
       "      <th>1</th>\n",
       "      <td>2</td>\n",
       "      <td>8/23/2022</td>\n",
       "      <td>Vadapav</td>\n",
       "      <td>Fastfood</td>\n",
       "      <td>20</td>\n",
       "      <td>15</td>\n",
       "      <td>300</td>\n",
       "      <td>Cash</td>\n",
       "      <td>Mr.</td>\n",
       "      <td>Afternoon</td>\n",
       "    </tr>\n",
       "    <tr>\n",
       "      <th>2</th>\n",
       "      <td>3</td>\n",
       "      <td>11/20/2022</td>\n",
       "      <td>Vadapav</td>\n",
       "      <td>Fastfood</td>\n",
       "      <td>20</td>\n",
       "      <td>1</td>\n",
       "      <td>20</td>\n",
       "      <td>Cash</td>\n",
       "      <td>Mr.</td>\n",
       "      <td>Afternoon</td>\n",
       "    </tr>\n",
       "    <tr>\n",
       "      <th>3</th>\n",
       "      <td>4</td>\n",
       "      <td>02-03-2023</td>\n",
       "      <td>Sugarcane juice</td>\n",
       "      <td>Beverages</td>\n",
       "      <td>25</td>\n",
       "      <td>6</td>\n",
       "      <td>150</td>\n",
       "      <td>Online</td>\n",
       "      <td>Mr.</td>\n",
       "      <td>Night</td>\n",
       "    </tr>\n",
       "    <tr>\n",
       "      <th>4</th>\n",
       "      <td>5</td>\n",
       "      <td>10-02-2022</td>\n",
       "      <td>Sugarcane juice</td>\n",
       "      <td>Beverages</td>\n",
       "      <td>25</td>\n",
       "      <td>8</td>\n",
       "      <td>200</td>\n",
       "      <td>Online</td>\n",
       "      <td>Mr.</td>\n",
       "      <td>Evening</td>\n",
       "    </tr>\n",
       "  </tbody>\n",
       "</table>\n",
       "</div>"
      ],
      "text/plain": [
       "   order_id        date        item_name  item_type  item_price  quantity  \\\n",
       "0         1  07-03-2022         Aalopuri   Fastfood          20        13   \n",
       "1         2   8/23/2022          Vadapav   Fastfood          20        15   \n",
       "2         3  11/20/2022          Vadapav   Fastfood          20         1   \n",
       "3         4  02-03-2023  Sugarcane juice  Beverages          25         6   \n",
       "4         5  10-02-2022  Sugarcane juice  Beverages          25         8   \n",
       "\n",
       "   transaction_amount transaction_type received_by time_of_sale  \n",
       "0                 260              NaN         Mr.        Night  \n",
       "1                 300             Cash         Mr.    Afternoon  \n",
       "2                  20             Cash         Mr.    Afternoon  \n",
       "3                 150           Online         Mr.        Night  \n",
       "4                 200           Online         Mr.      Evening  "
      ]
     },
     "execution_count": 6,
     "metadata": {},
     "output_type": "execute_result"
    }
   ],
   "source": [
    "data.head()"
   ]
  },
  {
   "cell_type": "code",
   "execution_count": 7,
   "id": "d24ad373",
   "metadata": {},
   "outputs": [
    {
     "data": {
      "text/plain": [
       "Index(['order_id', 'date', 'item_name', 'item_type', 'item_price', 'quantity',\n",
       "       'transaction_amount', 'transaction_type', 'received_by',\n",
       "       'time_of_sale'],\n",
       "      dtype='object')"
      ]
     },
     "execution_count": 7,
     "metadata": {},
     "output_type": "execute_result"
    }
   ],
   "source": [
    "data.columns"
   ]
  },
  {
   "cell_type": "code",
   "execution_count": 8,
   "id": "59163497",
   "metadata": {},
   "outputs": [
    {
     "data": {
      "text/plain": [
       "order_id               int64\n",
       "date                  object\n",
       "item_name             object\n",
       "item_type             object\n",
       "item_price             int64\n",
       "quantity               int64\n",
       "transaction_amount     int64\n",
       "transaction_type      object\n",
       "received_by           object\n",
       "time_of_sale          object\n",
       "dtype: object"
      ]
     },
     "execution_count": 8,
     "metadata": {},
     "output_type": "execute_result"
    }
   ],
   "source": [
    "data.dtypes"
   ]
  },
  {
   "cell_type": "code",
   "execution_count": 9,
   "id": "a48789cb",
   "metadata": {},
   "outputs": [
    {
     "name": "stdout",
     "output_type": "stream",
     "text": [
      "<class 'pandas.core.frame.DataFrame'>\n",
      "RangeIndex: 1000 entries, 0 to 999\n",
      "Data columns (total 10 columns):\n",
      " #   Column              Non-Null Count  Dtype \n",
      "---  ------              --------------  ----- \n",
      " 0   order_id            1000 non-null   int64 \n",
      " 1   date                1000 non-null   object\n",
      " 2   item_name           1000 non-null   object\n",
      " 3   item_type           1000 non-null   object\n",
      " 4   item_price          1000 non-null   int64 \n",
      " 5   quantity            1000 non-null   int64 \n",
      " 6   transaction_amount  1000 non-null   int64 \n",
      " 7   transaction_type    893 non-null    object\n",
      " 8   received_by         1000 non-null   object\n",
      " 9   time_of_sale        1000 non-null   object\n",
      "dtypes: int64(4), object(6)\n",
      "memory usage: 78.3+ KB\n"
     ]
    }
   ],
   "source": [
    "data.info()"
   ]
  },
  {
   "cell_type": "code",
   "execution_count": 10,
   "id": "77bc80b0",
   "metadata": {},
   "outputs": [
    {
     "data": {
      "text/plain": [
       "order_id                0\n",
       "date                    0\n",
       "item_name               0\n",
       "item_type               0\n",
       "item_price              0\n",
       "quantity                0\n",
       "transaction_amount      0\n",
       "transaction_type      107\n",
       "received_by             0\n",
       "time_of_sale            0\n",
       "dtype: int64"
      ]
     },
     "execution_count": 10,
     "metadata": {},
     "output_type": "execute_result"
    }
   ],
   "source": [
    "data.isnull().sum()"
   ]
  },
  {
   "cell_type": "code",
   "execution_count": 11,
   "id": "4df29d32",
   "metadata": {},
   "outputs": [
    {
     "data": {
      "text/plain": [
       "order_id              1000\n",
       "date                   348\n",
       "item_name                7\n",
       "item_type                2\n",
       "item_price               5\n",
       "quantity                15\n",
       "transaction_amount      48\n",
       "transaction_type         2\n",
       "received_by              2\n",
       "time_of_sale             5\n",
       "dtype: int64"
      ]
     },
     "execution_count": 11,
     "metadata": {},
     "output_type": "execute_result"
    }
   ],
   "source": [
    "data.nunique()"
   ]
  },
  {
   "cell_type": "markdown",
   "id": "b88106a3",
   "metadata": {},
   "source": [
    "##### "
   ]
  },
  {
   "cell_type": "markdown",
   "id": "71db7f29",
   "metadata": {},
   "source": [
    "#### Statistical Summary"
   ]
  },
  {
   "cell_type": "code",
   "execution_count": 12,
   "id": "080494bc",
   "metadata": {},
   "outputs": [
    {
     "data": {
      "text/html": [
       "<div>\n",
       "<style scoped>\n",
       "    .dataframe tbody tr th:only-of-type {\n",
       "        vertical-align: middle;\n",
       "    }\n",
       "\n",
       "    .dataframe tbody tr th {\n",
       "        vertical-align: top;\n",
       "    }\n",
       "\n",
       "    .dataframe thead th {\n",
       "        text-align: right;\n",
       "    }\n",
       "</style>\n",
       "<table border=\"1\" class=\"dataframe\">\n",
       "  <thead>\n",
       "    <tr style=\"text-align: right;\">\n",
       "      <th></th>\n",
       "      <th>order_id</th>\n",
       "      <th>item_price</th>\n",
       "      <th>quantity</th>\n",
       "      <th>transaction_amount</th>\n",
       "    </tr>\n",
       "  </thead>\n",
       "  <tbody>\n",
       "    <tr>\n",
       "      <th>count</th>\n",
       "      <td>1000.000000</td>\n",
       "      <td>1000.000000</td>\n",
       "      <td>1000.000000</td>\n",
       "      <td>1000.000000</td>\n",
       "    </tr>\n",
       "    <tr>\n",
       "      <th>mean</th>\n",
       "      <td>500.500000</td>\n",
       "      <td>33.315000</td>\n",
       "      <td>8.162000</td>\n",
       "      <td>275.230000</td>\n",
       "    </tr>\n",
       "    <tr>\n",
       "      <th>std</th>\n",
       "      <td>288.819436</td>\n",
       "      <td>14.921744</td>\n",
       "      <td>4.413075</td>\n",
       "      <td>204.402979</td>\n",
       "    </tr>\n",
       "    <tr>\n",
       "      <th>min</th>\n",
       "      <td>1.000000</td>\n",
       "      <td>20.000000</td>\n",
       "      <td>1.000000</td>\n",
       "      <td>20.000000</td>\n",
       "    </tr>\n",
       "    <tr>\n",
       "      <th>25%</th>\n",
       "      <td>250.750000</td>\n",
       "      <td>20.000000</td>\n",
       "      <td>4.000000</td>\n",
       "      <td>120.000000</td>\n",
       "    </tr>\n",
       "    <tr>\n",
       "      <th>50%</th>\n",
       "      <td>500.500000</td>\n",
       "      <td>25.000000</td>\n",
       "      <td>8.000000</td>\n",
       "      <td>240.000000</td>\n",
       "    </tr>\n",
       "    <tr>\n",
       "      <th>75%</th>\n",
       "      <td>750.250000</td>\n",
       "      <td>50.000000</td>\n",
       "      <td>12.000000</td>\n",
       "      <td>360.000000</td>\n",
       "    </tr>\n",
       "    <tr>\n",
       "      <th>max</th>\n",
       "      <td>1000.000000</td>\n",
       "      <td>60.000000</td>\n",
       "      <td>15.000000</td>\n",
       "      <td>900.000000</td>\n",
       "    </tr>\n",
       "  </tbody>\n",
       "</table>\n",
       "</div>"
      ],
      "text/plain": [
       "          order_id   item_price     quantity  transaction_amount\n",
       "count  1000.000000  1000.000000  1000.000000         1000.000000\n",
       "mean    500.500000    33.315000     8.162000          275.230000\n",
       "std     288.819436    14.921744     4.413075          204.402979\n",
       "min       1.000000    20.000000     1.000000           20.000000\n",
       "25%     250.750000    20.000000     4.000000          120.000000\n",
       "50%     500.500000    25.000000     8.000000          240.000000\n",
       "75%     750.250000    50.000000    12.000000          360.000000\n",
       "max    1000.000000    60.000000    15.000000          900.000000"
      ]
     },
     "execution_count": 12,
     "metadata": {},
     "output_type": "execute_result"
    }
   ],
   "source": [
    "data.describe()"
   ]
  },
  {
   "cell_type": "markdown",
   "id": "391f01e0",
   "metadata": {},
   "source": [
    "###### "
   ]
  },
  {
   "cell_type": "markdown",
   "id": "c4594d48",
   "metadata": {},
   "source": [
    "#### Defining categorical and numerical columns"
   ]
  },
  {
   "cell_type": "code",
   "execution_count": 13,
   "id": "273fe475",
   "metadata": {},
   "outputs": [
    {
     "name": "stdout",
     "output_type": "stream",
     "text": [
      "╒══════════════════╤════════════════════╕\n",
      "│ Categorical      │ Numerical          │\n",
      "╞══════════════════╪════════════════════╡\n",
      "│ date             │ order_id           │\n",
      "├──────────────────┼────────────────────┤\n",
      "│ item_name        │ item_price         │\n",
      "├──────────────────┼────────────────────┤\n",
      "│ item_type        │ quantity           │\n",
      "├──────────────────┼────────────────────┤\n",
      "│ transaction_type │ transaction_amount │\n",
      "├──────────────────┼────────────────────┤\n",
      "│ received_by      │                    │\n",
      "├──────────────────┼────────────────────┤\n",
      "│ time_of_sale     │                    │\n",
      "╘══════════════════╧════════════════════╛\n"
     ]
    }
   ],
   "source": [
    "def cat_num(data):\n",
    "    categorical = []\n",
    "    numerical = []\n",
    "    for i in data.columns:\n",
    "        if data[i].dtypes == 'O':\n",
    "            categorical.append(i)\n",
    "        else:\n",
    "            numerical.append(i)\n",
    "            \n",
    "    return categorical, numerical\n",
    "    \n",
    "categorical, numerical = cat_num(data)\n",
    "    \n",
    "print(tabulate({\"Categorical\":categorical,\n",
    "                \"Numerical\": numerical}, headers = [\"Categorical\", \"Numerical\"],tablefmt=\"fancy_grid\"))"
   ]
  },
  {
   "cell_type": "markdown",
   "id": "22e39bfb",
   "metadata": {},
   "source": [
    "#### Imput missing values"
   ]
  },
  {
   "cell_type": "code",
   "execution_count": 14,
   "id": "13a1e75a",
   "metadata": {},
   "outputs": [
    {
     "data": {
      "text/plain": [
       "transaction_type    107\n",
       "dtype: int64"
      ]
     },
     "execution_count": 14,
     "metadata": {},
     "output_type": "execute_result"
    }
   ],
   "source": [
    "a = data.isnull().sum()\n",
    "a[a>0]"
   ]
  },
  {
   "cell_type": "markdown",
   "id": "79614481",
   "metadata": {},
   "source": [
    "Transaction type is a Categorical column so imputing missing values with mode"
   ]
  },
  {
   "cell_type": "code",
   "execution_count": 15,
   "id": "b3618c05",
   "metadata": {},
   "outputs": [],
   "source": [
    "data[\"transaction_type\"].fillna(data[\"transaction_type\"].mode()[0], inplace = True)"
   ]
  },
  {
   "cell_type": "code",
   "execution_count": 16,
   "id": "004cf2ff",
   "metadata": {},
   "outputs": [
    {
     "data": {
      "text/plain": [
       "order_id              0\n",
       "date                  0\n",
       "item_name             0\n",
       "item_type             0\n",
       "item_price            0\n",
       "quantity              0\n",
       "transaction_amount    0\n",
       "transaction_type      0\n",
       "received_by           0\n",
       "time_of_sale          0\n",
       "dtype: int64"
      ]
     },
     "execution_count": 16,
     "metadata": {},
     "output_type": "execute_result"
    }
   ],
   "source": [
    "data.isnull().sum()"
   ]
  },
  {
   "cell_type": "markdown",
   "id": "0c00ec4e",
   "metadata": {},
   "source": [
    "### "
   ]
  },
  {
   "cell_type": "markdown",
   "id": "79ca1783",
   "metadata": {},
   "source": [
    "#### Outliers Identification"
   ]
  },
  {
   "cell_type": "code",
   "execution_count": 17,
   "id": "66fcd045",
   "metadata": {},
   "outputs": [
    {
     "data": {
      "text/plain": [
       "['order_id', 'item_price', 'quantity', 'transaction_amount']"
      ]
     },
     "execution_count": 17,
     "metadata": {},
     "output_type": "execute_result"
    }
   ],
   "source": [
    "numerical"
   ]
  },
  {
   "cell_type": "markdown",
   "id": "a3ddd411",
   "metadata": {},
   "source": [
    "#### Item Price"
   ]
  },
  {
   "cell_type": "code",
   "execution_count": 18,
   "id": "c397e6dc",
   "metadata": {},
   "outputs": [
    {
     "data": {
      "image/png": "[encoded data removed]",
      "text/plain": [
       "<Figure size 640x480 with 1 Axes>"
      ]
     },
     "metadata": {},
     "output_type": "display_data"
    }
   ],
   "source": [
    "data[\"item_price\"].plot(kind= \"box\",stacked = False)\n",
    "plt.show()"
   ]
  },
  {
   "cell_type": "markdown",
   "id": "ea3ad554",
   "metadata": {},
   "source": [
    "#### "
   ]
  },
  {
   "cell_type": "markdown",
   "id": "f6509b36",
   "metadata": {},
   "source": [
    "#### Quantity"
   ]
  },
  {
   "cell_type": "code",
   "execution_count": 19,
   "id": "8d7003e0",
   "metadata": {},
   "outputs": [
    {
     "data": {
      "image/png": "[encoded data removed]",
      "text/plain": [
       "<Figure size 640x480 with 1 Axes>"
      ]
     },
     "metadata": {},
     "output_type": "display_data"
    }
   ],
   "source": [
    "data[\"quantity\"].plot(kind= \"box\",stacked = False)\n",
    "plt.show()"
   ]
  },
  {
   "cell_type": "markdown",
   "id": "0a63a450",
   "metadata": {},
   "source": [
    "###### "
   ]
  },
  {
   "cell_type": "markdown",
   "id": "569cc173",
   "metadata": {},
   "source": [
    "#### Transaction Amount"
   ]
  },
  {
   "cell_type": "code",
   "execution_count": 20,
   "id": "78e4d3e2",
   "metadata": {},
   "outputs": [
    {
     "data": {
      "image/png": "[encoded data removed]",
      "text/plain": [
       "<Figure size 640x480 with 1 Axes>"
      ]
     },
     "metadata": {},
     "output_type": "display_data"
    }
   ],
   "source": [
    "data[\"transaction_amount\"].plot(kind = \"box\", stacked = False)\n",
    "plt.show()"
   ]
  },
  {
   "cell_type": "markdown",
   "id": "19e82df2",
   "metadata": {},
   "source": [
    "### Interpretation:\n",
    "The data in the item price column exhibits right skewness, although no outliers are apparent in that column. In the quantity column, the data is not skewed. However, in the transaction amount column, there is right skewness, and some outliers are present."
   ]
  },
  {
   "cell_type": "markdown",
   "id": "af393884",
   "metadata": {},
   "source": [
    "###### "
   ]
  },
  {
   "cell_type": "markdown",
   "id": "421201e1",
   "metadata": {},
   "source": [
    "#### Outliers treatement"
   ]
  },
  {
   "cell_type": "code",
   "execution_count": 21,
   "id": "cf2d9ad7",
   "metadata": {},
   "outputs": [],
   "source": [
    "# Defining function for outliers treatment\n",
    "\n",
    "def treat_outliers(data, x):\n",
    "    Q1 = data[x].quantile(0.25)\n",
    "    Q3 = data[x].quantile(0.75)\n",
    "\n",
    "    IQR = Q3 - Q1\n",
    "\n",
    "    LF = Q1 - 1.5 * IQR\n",
    "    UF = Q3 + 1.5 * IQR\n",
    "\n",
    "    outliers = (data[x] < LF) | (data[x] > UF)\n",
    "\n",
    "    data.loc[outliers, x] = data[x].mean()\n",
    "\n",
    "    return data"
   ]
  },
  {
   "cell_type": "markdown",
   "id": "02baf863",
   "metadata": {},
   "source": [
    "#### Transaction amount"
   ]
  },
  {
   "cell_type": "code",
   "execution_count": 22,
   "id": "5c2e37fe",
   "metadata": {},
   "outputs": [],
   "source": [
    "data = treat_outliers(data,\"transaction_amount\")"
   ]
  },
  {
   "cell_type": "code",
   "execution_count": 23,
   "id": "d38cd689",
   "metadata": {},
   "outputs": [
    {
     "data": {
      "image/png": "[encoded data removed]",
      "text/plain": [
       "<Figure size 640x480 with 1 Axes>"
      ]
     },
     "metadata": {},
     "output_type": "display_data"
    }
   ],
   "source": [
    "data[\"transaction_amount\"].plot(kind = \"box\", stacked = False)\n",
    "plt.show()"
   ]
  },
  {
   "cell_type": "markdown",
   "id": "8ad3edcf",
   "metadata": {},
   "source": [
    "### Interpretation \n",
    "Outliers in the transaction amount column have been removed, as evident from the visual comparison between the data before and after the removal. However, a few outliers still persist in the dataset."
   ]
  },
  {
   "cell_type": "markdown",
   "id": "d184c4f8",
   "metadata": {},
   "source": [
    "#### "
   ]
  },
  {
   "cell_type": "markdown",
   "id": "55f40f6e",
   "metadata": {},
   "source": [
    "### Exporting cleaned data"
   ]
  },
  {
   "cell_type": "code",
   "execution_count": 24,
   "id": "ddcdee86",
   "metadata": {},
   "outputs": [],
   "source": [
    "data.to_csv(\"Balaji_Fast-Food_Sales_cleaned_data.csv\")"
   ]
  },
  {
   "cell_type": "code",
   "execution_count": 25,
   "id": "a5d8dfd3",
   "metadata": {},
   "outputs": [
    {
     "data": {
      "text/plain": [
       "'C:\\\\Users\\\\SHUBH\\\\Downloads'"
      ]
     },
     "execution_count": 25,
     "metadata": {},
     "output_type": "execute_result"
    }
   ],
   "source": [
    "import os\n",
    "os.getcwd()"
   ]
  }
 ],
 "metadata": {
  "kernelspec": {
   "display_name": "Python 3 (ipykernel)",
   "language": "python",
   "name": "python3"
  },
  "language_info": {
   "codemirror_mode": {
    "name": "ipython",
    "version": 3
   },
   "file_extension": ".py",
   "mimetype": "text/x-python",
   "name": "python",
   "nbconvert_exporter": "python",
   "pygments_lexer": "ipython3",
   "version": "3.11.5"
  }
 },
 "nbformat": 4,
 "nbformat_minor": 5
}
